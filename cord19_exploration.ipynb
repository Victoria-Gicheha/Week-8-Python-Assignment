{
 "cells": [
  {
   "cell_type": "code",
   "execution_count": null,
   "id": "a55238cc",
   "metadata": {},
   "outputs": [],
   "source": [
    "# Part 1: \n",
    "# Load and Explore Data\n",
    "import pandas as pd\n",
    "\n",
    "#Load data\n",
    "df = pd.read_csv(\"metadata.csv\", low_memory=False)\n",
    "print(\"Shape:\", df.shape)\n",
    "print(df.head())\n",
    "print(df.info())\n",
    "print(df.isnull().sum().head(20))\n"
   ]
  },
  {
   "cell_type": "markdown",
   "id": "f170ebcc",
   "metadata": {},
   "source": [
    "This section loads data from the .csv file, explores it and displays the first 20 rows."
   ]
  },
  {
   "cell_type": "code",
   "execution_count": null,
   "id": "6085cf55",
   "metadata": {},
   "outputs": [],
   "source": [
    "# Part 2: Clean & Prepare\n",
    "# Drop rows with missing critical info\n",
    "df_clean = df.dropna(subset=[\"title\", \"abstract\", \"publish_time\"])\n",
    "\n",
    "# Convert publish_time to datetime\n",
    "df_clean[\"publish_time\"] = pd.to_datetime(df_clean[\"publish_time\"], errors=\"coerce\")\n",
    "df_clean[\"year\"] = df_clean[\"publish_time\"].dt.year\n",
    "\n",
    "# Feature: abstract word count\n",
    "df_clean[\"abstract_word_count\"] = df_clean[\"abstract\"].fillna(\"\").apply(lambda x: len(x.split()))\n",
    "\n",
    "df_clean.head()"
   ]
  },
  {
   "cell_type": "markdown",
   "id": "d7c19282",
   "metadata": {},
   "source": [
    "This section focuses on data preparation and cleaning, in order to ascertain data integrity and accuracy."
   ]
  },
  {
   "cell_type": "code",
   "execution_count": null,
   "id": "136bf6ef",
   "metadata": {},
   "outputs": [],
   "source": [
    "# Analysing and Visualizing\n",
    "\n",
    "import matplotlib.pyplot as plt\n",
    "from collections import Counter\n",
    "from wordcloud import WordCloud\n",
    "\n",
    "# Publications per year\n",
    "df_clean[\"year\"].value_counts().sort_index().plot(kind=\"bar\", figsize=(10,5))\n",
    "plt.title(\"Publications per Year\")\n",
    "plt.show()\n",
    "\n",
    "# Top journals\n",
    "df_clean[\"journal\"].value_counts().head(10).plot(kind=\"barh\", figsize=(8,5))\n",
    "plt.title(\"Top Journals Publishing COVID-19 Papers\")\n",
    "plt.show()\n",
    "\n",
    "# Word frequency in titles\n",
    "words = \" \".join(df_clean[\"title\"].dropna()).lower().split()\n",
    "word_freq = Counter(words).most_common(20)\n",
    "print(word_freq)\n",
    "\n",
    "# Word cloud of titles\n",
    "text = \" \".join(df_clean[\"title\"].dropna())\n",
    "wc = WordCloud(width=800, height=400, background_color=\"white\").generate(text)\n",
    "plt.imshow(wc, interpolation=\"bilinear\")\n",
    "plt.axis(\"off\")\n",
    "plt.show()\n"
   ]
  },
  {
   "cell_type": "markdown",
   "id": "a1c8a1a4",
   "metadata": {},
   "source": [
    "The third part focuses on analyzing and visually displaying the data in a way that it can tell a story."
   ]
  }
 ],
 "metadata": {
  "kernelspec": {
   "display_name": "Python 3",
   "language": "python",
   "name": "python3"
  },
  "language_info": {
   "name": "python",
   "version": "3.13.7"
  }
 },
 "nbformat": 4,
 "nbformat_minor": 5
}
